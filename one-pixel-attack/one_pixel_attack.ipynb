{
  "nbformat": 4,
  "nbformat_minor": 0,
  "metadata": {
    "kernelspec": {
      "display_name": "Python 3",
      "language": "python",
      "name": "python3"
    },
    "language_info": {
      "codemirror_mode": {
        "name": "ipython",
        "version": 3
      },
      "file_extension": ".py",
      "mimetype": "text/x-python",
      "name": "python",
      "nbconvert_exporter": "python",
      "pygments_lexer": "ipython3",
      "version": "3.6.5"
    },
    "colab": {
      "name": "one_pixel_attack.ipynb",
      "provenance": [],
      "toc_visible": true,
      "include_colab_link": true
    },
    "accelerator": "GPU",
    "widgets": {
      "application/vnd.jupyter.widget-state+json": {
        "56f034a9a7e24c7bbaedb7336d214360": {
          "model_module": "@jupyter-widgets/controls",
          "model_name": "HBoxModel",
          "state": {
            "_view_name": "HBoxView",
            "_dom_classes": [],
            "_model_name": "HBoxModel",
            "_view_module": "@jupyter-widgets/controls",
            "_model_module_version": "1.5.0",
            "_view_count": null,
            "_view_module_version": "1.5.0",
            "box_style": "",
            "layout": "IPY_MODEL_65170fadc374457fa6446d122657d958",
            "_model_module": "@jupyter-widgets/controls",
            "children": [
              "IPY_MODEL_04ea6c855f2c4aa59e60435ac6cd1963",
              "IPY_MODEL_93492cf11dc44ce4a2df5a40b13d43df"
            ]
          }
        },
        "65170fadc374457fa6446d122657d958": {
          "model_module": "@jupyter-widgets/base",
          "model_name": "LayoutModel",
          "state": {
            "_view_name": "LayoutView",
            "grid_template_rows": null,
            "right": null,
            "justify_content": null,
            "_view_module": "@jupyter-widgets/base",
            "overflow": null,
            "_model_module_version": "1.2.0",
            "_view_count": null,
            "flex_flow": null,
            "width": null,
            "min_width": null,
            "border": null,
            "align_items": null,
            "bottom": null,
            "_model_module": "@jupyter-widgets/base",
            "top": null,
            "grid_column": null,
            "overflow_y": null,
            "overflow_x": null,
            "grid_auto_flow": null,
            "grid_area": null,
            "grid_template_columns": null,
            "flex": null,
            "_model_name": "LayoutModel",
            "justify_items": null,
            "grid_row": null,
            "max_height": null,
            "align_content": null,
            "visibility": null,
            "align_self": null,
            "height": null,
            "min_height": null,
            "padding": null,
            "grid_auto_rows": null,
            "grid_gap": null,
            "max_width": null,
            "order": null,
            "_view_module_version": "1.2.0",
            "grid_template_areas": null,
            "object_position": null,
            "object_fit": null,
            "grid_auto_columns": null,
            "margin": null,
            "display": null,
            "left": null
          }
        },
        "04ea6c855f2c4aa59e60435ac6cd1963": {
          "model_module": "@jupyter-widgets/controls",
          "model_name": "FloatProgressModel",
          "state": {
            "_view_name": "ProgressView",
            "style": "IPY_MODEL_3d1e025949fa4437a089002f55e04c7c",
            "_dom_classes": [],
            "description": "100%",
            "_model_name": "FloatProgressModel",
            "bar_style": "success",
            "max": 553433881,
            "_view_module": "@jupyter-widgets/controls",
            "_model_module_version": "1.5.0",
            "value": 553433881,
            "_view_count": null,
            "_view_module_version": "1.5.0",
            "orientation": "horizontal",
            "min": 0,
            "description_tooltip": null,
            "_model_module": "@jupyter-widgets/controls",
            "layout": "IPY_MODEL_663d907cc59e411bbb2a67ea04e7a376"
          }
        },
        "93492cf11dc44ce4a2df5a40b13d43df": {
          "model_module": "@jupyter-widgets/controls",
          "model_name": "HTMLModel",
          "state": {
            "_view_name": "HTMLView",
            "style": "IPY_MODEL_2c7df1e08ce94df080328e60af2bf741",
            "_dom_classes": [],
            "description": "",
            "_model_name": "HTMLModel",
            "placeholder": "​",
            "_view_module": "@jupyter-widgets/controls",
            "_model_module_version": "1.5.0",
            "value": " 528M/528M [00:06&lt;00:00, 89.6MB/s]",
            "_view_count": null,
            "_view_module_version": "1.5.0",
            "description_tooltip": null,
            "_model_module": "@jupyter-widgets/controls",
            "layout": "IPY_MODEL_67ac0ce34425430bb1b76869dbb90836"
          }
        },
        "3d1e025949fa4437a089002f55e04c7c": {
          "model_module": "@jupyter-widgets/controls",
          "model_name": "ProgressStyleModel",
          "state": {
            "_view_name": "StyleView",
            "_model_name": "ProgressStyleModel",
            "description_width": "initial",
            "_view_module": "@jupyter-widgets/base",
            "_model_module_version": "1.5.0",
            "_view_count": null,
            "_view_module_version": "1.2.0",
            "bar_color": null,
            "_model_module": "@jupyter-widgets/controls"
          }
        },
        "663d907cc59e411bbb2a67ea04e7a376": {
          "model_module": "@jupyter-widgets/base",
          "model_name": "LayoutModel",
          "state": {
            "_view_name": "LayoutView",
            "grid_template_rows": null,
            "right": null,
            "justify_content": null,
            "_view_module": "@jupyter-widgets/base",
            "overflow": null,
            "_model_module_version": "1.2.0",
            "_view_count": null,
            "flex_flow": null,
            "width": null,
            "min_width": null,
            "border": null,
            "align_items": null,
            "bottom": null,
            "_model_module": "@jupyter-widgets/base",
            "top": null,
            "grid_column": null,
            "overflow_y": null,
            "overflow_x": null,
            "grid_auto_flow": null,
            "grid_area": null,
            "grid_template_columns": null,
            "flex": null,
            "_model_name": "LayoutModel",
            "justify_items": null,
            "grid_row": null,
            "max_height": null,
            "align_content": null,
            "visibility": null,
            "align_self": null,
            "height": null,
            "min_height": null,
            "padding": null,
            "grid_auto_rows": null,
            "grid_gap": null,
            "max_width": null,
            "order": null,
            "_view_module_version": "1.2.0",
            "grid_template_areas": null,
            "object_position": null,
            "object_fit": null,
            "grid_auto_columns": null,
            "margin": null,
            "display": null,
            "left": null
          }
        },
        "2c7df1e08ce94df080328e60af2bf741": {
          "model_module": "@jupyter-widgets/controls",
          "model_name": "DescriptionStyleModel",
          "state": {
            "_view_name": "StyleView",
            "_model_name": "DescriptionStyleModel",
            "description_width": "",
            "_view_module": "@jupyter-widgets/base",
            "_model_module_version": "1.5.0",
            "_view_count": null,
            "_view_module_version": "1.2.0",
            "_model_module": "@jupyter-widgets/controls"
          }
        },
        "67ac0ce34425430bb1b76869dbb90836": {
          "model_module": "@jupyter-widgets/base",
          "model_name": "LayoutModel",
          "state": {
            "_view_name": "LayoutView",
            "grid_template_rows": null,
            "right": null,
            "justify_content": null,
            "_view_module": "@jupyter-widgets/base",
            "overflow": null,
            "_model_module_version": "1.2.0",
            "_view_count": null,
            "flex_flow": null,
            "width": null,
            "min_width": null,
            "border": null,
            "align_items": null,
            "bottom": null,
            "_model_module": "@jupyter-widgets/base",
            "top": null,
            "grid_column": null,
            "overflow_y": null,
            "overflow_x": null,
            "grid_auto_flow": null,
            "grid_area": null,
            "grid_template_columns": null,
            "flex": null,
            "_model_name": "LayoutModel",
            "justify_items": null,
            "grid_row": null,
            "max_height": null,
            "align_content": null,
            "visibility": null,
            "align_self": null,
            "height": null,
            "min_height": null,
            "padding": null,
            "grid_auto_rows": null,
            "grid_gap": null,
            "max_width": null,
            "order": null,
            "_view_module_version": "1.2.0",
            "grid_template_areas": null,
            "object_position": null,
            "object_fit": null,
            "grid_auto_columns": null,
            "margin": null,
            "display": null,
            "left": null
          }
        },
        "95915caf1b234a6e94f4922226152c45": {
          "model_module": "@jupyter-widgets/controls",
          "model_name": "HBoxModel",
          "state": {
            "_view_name": "HBoxView",
            "_dom_classes": [],
            "_model_name": "HBoxModel",
            "_view_module": "@jupyter-widgets/controls",
            "_model_module_version": "1.5.0",
            "_view_count": null,
            "_view_module_version": "1.5.0",
            "box_style": "",
            "layout": "IPY_MODEL_9c77ea448cf14619b721db1640ce4b80",
            "_model_module": "@jupyter-widgets/controls",
            "children": [
              "IPY_MODEL_9796ea965a714c3782f4d27448e59a56",
              "IPY_MODEL_f497b17f658a42f0bfae85a3dcbfcd0a"
            ]
          }
        },
        "9c77ea448cf14619b721db1640ce4b80": {
          "model_module": "@jupyter-widgets/base",
          "model_name": "LayoutModel",
          "state": {
            "_view_name": "LayoutView",
            "grid_template_rows": null,
            "right": null,
            "justify_content": null,
            "_view_module": "@jupyter-widgets/base",
            "overflow": null,
            "_model_module_version": "1.2.0",
            "_view_count": null,
            "flex_flow": null,
            "width": null,
            "min_width": null,
            "border": null,
            "align_items": null,
            "bottom": null,
            "_model_module": "@jupyter-widgets/base",
            "top": null,
            "grid_column": null,
            "overflow_y": null,
            "overflow_x": null,
            "grid_auto_flow": null,
            "grid_area": null,
            "grid_template_columns": null,
            "flex": null,
            "_model_name": "LayoutModel",
            "justify_items": null,
            "grid_row": null,
            "max_height": null,
            "align_content": null,
            "visibility": null,
            "align_self": null,
            "height": null,
            "min_height": null,
            "padding": null,
            "grid_auto_rows": null,
            "grid_gap": null,
            "max_width": null,
            "order": null,
            "_view_module_version": "1.2.0",
            "grid_template_areas": null,
            "object_position": null,
            "object_fit": null,
            "grid_auto_columns": null,
            "margin": null,
            "display": null,
            "left": null
          }
        },
        "9796ea965a714c3782f4d27448e59a56": {
          "model_module": "@jupyter-widgets/controls",
          "model_name": "FloatProgressModel",
          "state": {
            "_view_name": "ProgressView",
            "style": "IPY_MODEL_6064ec676b0741c481da04d1ff58eea2",
            "_dom_classes": [],
            "description": "",
            "_model_name": "FloatProgressModel",
            "bar_style": "success",
            "max": 1,
            "_view_module": "@jupyter-widgets/controls",
            "_model_module_version": "1.5.0",
            "value": 1,
            "_view_count": null,
            "_view_module_version": "1.5.0",
            "orientation": "horizontal",
            "min": 0,
            "description_tooltip": null,
            "_model_module": "@jupyter-widgets/controls",
            "layout": "IPY_MODEL_85105318db6b437a8db7d066d3ae4403"
          }
        },
        "f497b17f658a42f0bfae85a3dcbfcd0a": {
          "model_module": "@jupyter-widgets/controls",
          "model_name": "HTMLModel",
          "state": {
            "_view_name": "HTMLView",
            "style": "IPY_MODEL_f73c24d4da63445baa7f9d4138304da7",
            "_dom_classes": [],
            "description": "",
            "_model_name": "HTMLModel",
            "placeholder": "​",
            "_view_module": "@jupyter-widgets/controls",
            "_model_module_version": "1.5.0",
            "value": " 170500096/? [00:06&lt;00:00, 27759467.22it/s]",
            "_view_count": null,
            "_view_module_version": "1.5.0",
            "description_tooltip": null,
            "_model_module": "@jupyter-widgets/controls",
            "layout": "IPY_MODEL_403c35f4a4c44dfdada54cf395d72ea2"
          }
        },
        "6064ec676b0741c481da04d1ff58eea2": {
          "model_module": "@jupyter-widgets/controls",
          "model_name": "ProgressStyleModel",
          "state": {
            "_view_name": "StyleView",
            "_model_name": "ProgressStyleModel",
            "description_width": "initial",
            "_view_module": "@jupyter-widgets/base",
            "_model_module_version": "1.5.0",
            "_view_count": null,
            "_view_module_version": "1.2.0",
            "bar_color": null,
            "_model_module": "@jupyter-widgets/controls"
          }
        },
        "85105318db6b437a8db7d066d3ae4403": {
          "model_module": "@jupyter-widgets/base",
          "model_name": "LayoutModel",
          "state": {
            "_view_name": "LayoutView",
            "grid_template_rows": null,
            "right": null,
            "justify_content": null,
            "_view_module": "@jupyter-widgets/base",
            "overflow": null,
            "_model_module_version": "1.2.0",
            "_view_count": null,
            "flex_flow": null,
            "width": null,
            "min_width": null,
            "border": null,
            "align_items": null,
            "bottom": null,
            "_model_module": "@jupyter-widgets/base",
            "top": null,
            "grid_column": null,
            "overflow_y": null,
            "overflow_x": null,
            "grid_auto_flow": null,
            "grid_area": null,
            "grid_template_columns": null,
            "flex": null,
            "_model_name": "LayoutModel",
            "justify_items": null,
            "grid_row": null,
            "max_height": null,
            "align_content": null,
            "visibility": null,
            "align_self": null,
            "height": null,
            "min_height": null,
            "padding": null,
            "grid_auto_rows": null,
            "grid_gap": null,
            "max_width": null,
            "order": null,
            "_view_module_version": "1.2.0",
            "grid_template_areas": null,
            "object_position": null,
            "object_fit": null,
            "grid_auto_columns": null,
            "margin": null,
            "display": null,
            "left": null
          }
        },
        "f73c24d4da63445baa7f9d4138304da7": {
          "model_module": "@jupyter-widgets/controls",
          "model_name": "DescriptionStyleModel",
          "state": {
            "_view_name": "StyleView",
            "_model_name": "DescriptionStyleModel",
            "description_width": "",
            "_view_module": "@jupyter-widgets/base",
            "_model_module_version": "1.5.0",
            "_view_count": null,
            "_view_module_version": "1.2.0",
            "_model_module": "@jupyter-widgets/controls"
          }
        },
        "403c35f4a4c44dfdada54cf395d72ea2": {
          "model_module": "@jupyter-widgets/base",
          "model_name": "LayoutModel",
          "state": {
            "_view_name": "LayoutView",
            "grid_template_rows": null,
            "right": null,
            "justify_content": null,
            "_view_module": "@jupyter-widgets/base",
            "overflow": null,
            "_model_module_version": "1.2.0",
            "_view_count": null,
            "flex_flow": null,
            "width": null,
            "min_width": null,
            "border": null,
            "align_items": null,
            "bottom": null,
            "_model_module": "@jupyter-widgets/base",
            "top": null,
            "grid_column": null,
            "overflow_y": null,
            "overflow_x": null,
            "grid_auto_flow": null,
            "grid_area": null,
            "grid_template_columns": null,
            "flex": null,
            "_model_name": "LayoutModel",
            "justify_items": null,
            "grid_row": null,
            "max_height": null,
            "align_content": null,
            "visibility": null,
            "align_self": null,
            "height": null,
            "min_height": null,
            "padding": null,
            "grid_auto_rows": null,
            "grid_gap": null,
            "max_width": null,
            "order": null,
            "_view_module_version": "1.2.0",
            "grid_template_areas": null,
            "object_position": null,
            "object_fit": null,
            "grid_auto_columns": null,
            "margin": null,
            "display": null,
            "left": null
          }
        }
      }
    }
  },
  "cells": [
    {
      "cell_type": "markdown",
      "metadata": {
        "id": "view-in-github",
        "colab_type": "text"
      },
      "source": [
        "<a href=\"https://colab.research.google.com/github/manncodes/adversial-attacks/blob/main/one_pixel_attack.ipynb\" target=\"_parent\"><img src=\"https://colab.research.google.com/assets/colab-badge.svg\" alt=\"Open In Colab\"/></a>"
      ]
    },
    {
      "cell_type": "markdown",
      "metadata": {
        "id": "CbVXw66RtDs9"
      },
      "source": [
        "## Setup"
      ]
    },
    {
      "cell_type": "code",
      "metadata": {
        "id": "JykZxQRHtInf",
        "colab": {
          "base_uri": "https://localhost:8080/"
        },
        "outputId": "d02e79b4-7617-4494-dc25-a53cab2920b5"
      },
      "source": [
        "!pip install tensorboardX\r\n",
        "!pip install torchvision"
      ],
      "execution_count": 3,
      "outputs": [
        {
          "output_type": "stream",
          "text": [
            "Requirement already satisfied: tensorboardX in /usr/local/lib/python3.6/dist-packages (2.1)\n",
            "Requirement already satisfied: protobuf>=3.8.0 in /usr/local/lib/python3.6/dist-packages (from tensorboardX) (3.12.4)\n",
            "Requirement already satisfied: numpy in /usr/local/lib/python3.6/dist-packages (from tensorboardX) (1.19.5)\n",
            "Requirement already satisfied: six in /usr/local/lib/python3.6/dist-packages (from tensorboardX) (1.15.0)\n",
            "Requirement already satisfied: setuptools in /usr/local/lib/python3.6/dist-packages (from protobuf>=3.8.0->tensorboardX) (53.0.0)\n",
            "Requirement already satisfied: torchvision in /usr/local/lib/python3.6/dist-packages (0.8.1+cu101)\n",
            "Requirement already satisfied: torch==1.7.0 in /usr/local/lib/python3.6/dist-packages (from torchvision) (1.7.0+cu101)\n",
            "Requirement already satisfied: pillow>=4.1.1 in /usr/local/lib/python3.6/dist-packages (from torchvision) (7.0.0)\n",
            "Requirement already satisfied: numpy in /usr/local/lib/python3.6/dist-packages (from torchvision) (1.19.5)\n",
            "Requirement already satisfied: future in /usr/local/lib/python3.6/dist-packages (from torch==1.7.0->torchvision) (0.16.0)\n",
            "Requirement already satisfied: dataclasses in /usr/local/lib/python3.6/dist-packages (from torch==1.7.0->torchvision) (0.8)\n",
            "Requirement already satisfied: typing-extensions in /usr/local/lib/python3.6/dist-packages (from torch==1.7.0->torchvision) (3.7.4.3)\n"
          ],
          "name": "stdout"
        }
      ]
    },
    {
      "cell_type": "code",
      "metadata": {
        "id": "zyjOHda_tDs-"
      },
      "source": [
        "%matplotlib inline\n",
        "import matplotlib.pyplot as plt\n",
        "import numpy as np\n",
        "import seaborn as sns\n",
        "import torch\n",
        "import torch.nn as nn\n",
        "import torch.nn.functional as F\n",
        "import torch.optim as optim\n",
        "\n",
        "from pathlib import Path\n",
        "from tensorboardX import SummaryWriter\n",
        "from torchvision import datasets, transforms, models\n",
        "from tqdm import tqdm\n",
        "\n",
        "writer = SummaryWriter()\n",
        "sns.set()\n",
        "sns.set_style(\"dark\")\n",
        "sns.set_palette(\"muted\")\n",
        "sns.set_color_codes(\"muted\")"
      ],
      "execution_count": 4,
      "outputs": []
    },
    {
      "cell_type": "markdown",
      "metadata": {
        "id": "3bftuQ9_tDs-"
      },
      "source": [
        "### CUDA"
      ]
    },
    {
      "cell_type": "code",
      "metadata": {
        "id": "SQqLMOk8tDs_",
        "colab": {
          "base_uri": "https://localhost:8080/"
        },
        "outputId": "d537682d-ae73-48a7-dde5-3eb016132b19"
      },
      "source": [
        "DEVICE = torch.device(\"cuda\" if torch.cuda.is_available() else \"cpu\")\n",
        "LOADER_KWARGS = {'num_workers': 1, 'pin_memory': True} if torch.cuda.is_available() else {'num_workers': 4}\n",
        "print(\"CUDA Available:\", torch.cuda.is_available())"
      ],
      "execution_count": 5,
      "outputs": [
        {
          "output_type": "stream",
          "text": [
            "CUDA Available: True\n"
          ],
          "name": "stdout"
        }
      ]
    },
    {
      "cell_type": "markdown",
      "metadata": {
        "id": "8-YM_icltDtA"
      },
      "source": [
        "## Train CIFAR VGG16 Model"
      ]
    },
    {
      "cell_type": "markdown",
      "metadata": {
        "id": "UcJwm52mtDtA"
      },
      "source": [
        "### Model Definition"
      ]
    },
    {
      "cell_type": "code",
      "metadata": {
        "id": "knSA7CVUtDtA",
        "colab": {
          "base_uri": "https://localhost:8080/",
          "height": 82,
          "referenced_widgets": [
            "56f034a9a7e24c7bbaedb7336d214360",
            "65170fadc374457fa6446d122657d958",
            "04ea6c855f2c4aa59e60435ac6cd1963",
            "93492cf11dc44ce4a2df5a40b13d43df",
            "3d1e025949fa4437a089002f55e04c7c",
            "663d907cc59e411bbb2a67ea04e7a376",
            "2c7df1e08ce94df080328e60af2bf741",
            "67ac0ce34425430bb1b76869dbb90836"
          ]
        },
        "outputId": "eb196237-6841-4338-b324-f6897af54c2f"
      },
      "source": [
        "cifar_model = models.vgg16(pretrained=True, init_weights=False)\n",
        "cifar_model.classifier = nn.Sequential(\n",
        "        nn.Linear(512, 2048),\n",
        "        nn.ReLU(True),\n",
        "        nn.Dropout(),\n",
        "        nn.Linear(2048, 2048),\n",
        "        nn.ReLU(True),\n",
        "        nn.Dropout(),\n",
        "        nn.Linear(2048, 10),\n",
        "    )\n",
        "cifar_model = cifar_model.to(DEVICE)"
      ],
      "execution_count": 6,
      "outputs": [
        {
          "output_type": "stream",
          "text": [
            "Downloading: \"https://download.pytorch.org/models/vgg16-397923af.pth\" to /root/.cache/torch/hub/checkpoints/vgg16-397923af.pth\n"
          ],
          "name": "stderr"
        },
        {
          "output_type": "display_data",
          "data": {
            "application/vnd.jupyter.widget-view+json": {
              "model_id": "56f034a9a7e24c7bbaedb7336d214360",
              "version_minor": 0,
              "version_major": 2
            },
            "text/plain": [
              "HBox(children=(FloatProgress(value=0.0, max=553433881.0), HTML(value='')))"
            ]
          },
          "metadata": {
            "tags": []
          }
        },
        {
          "output_type": "stream",
          "text": [
            "\n"
          ],
          "name": "stdout"
        }
      ]
    },
    {
      "cell_type": "markdown",
      "metadata": {
        "id": "ghlOE7MGtDtA"
      },
      "source": [
        "### Dataloading"
      ]
    },
    {
      "cell_type": "code",
      "metadata": {
        "id": "dtKTHd7ltDtB",
        "colab": {
          "base_uri": "https://localhost:8080/",
          "height": 116,
          "referenced_widgets": [
            "95915caf1b234a6e94f4922226152c45",
            "9c77ea448cf14619b721db1640ce4b80",
            "9796ea965a714c3782f4d27448e59a56",
            "f497b17f658a42f0bfae85a3dcbfcd0a",
            "6064ec676b0741c481da04d1ff58eea2",
            "85105318db6b437a8db7d066d3ae4403",
            "f73c24d4da63445baa7f9d4138304da7",
            "403c35f4a4c44dfdada54cf395d72ea2"
          ]
        },
        "outputId": "23e1da8a-28ba-4cf7-bae4-a3e10c2c423b"
      },
      "source": [
        "BATCH_SIZE = 128\n",
        "TRAIN_COUNT = 40_000\n",
        "VAL_COUNT = 10_000\n",
        "TEST_COUNT = 10_000\n",
        "\n",
        "train_transform = transforms.Compose([\n",
        "    transforms.RandomHorizontalFlip(),\n",
        "    transforms.ToTensor(),\n",
        "])\n",
        "\n",
        "test_transform = transforms.ToTensor()\n",
        "\n",
        "train_set = datasets.CIFAR10(root='./data', train=True, download=True, transform=train_transform)\n",
        "train_set = torch.utils.data.dataset.Subset(train_set, range(0,TRAIN_COUNT))\n",
        "train_loader = torch.utils.data.DataLoader(train_set, batch_size=BATCH_SIZE, shuffle=True, **LOADER_KWARGS)\n",
        "\n",
        "val_set = datasets.CIFAR10(root='./data', train=True, download=True, transform=test_transform)\n",
        "val_set = torch.utils.data.dataset.Subset(val_set, range(TRAIN_COUNT,TRAIN_COUNT+VAL_COUNT))\n",
        "val_loader = torch.utils.data.DataLoader(val_set, batch_size=BATCH_SIZE, shuffle=False, **LOADER_KWARGS)\n",
        "\n",
        "test_set = datasets.CIFAR10(root='./data', train=False, download=True, transform=test_transform)\n",
        "test_loader = torch.utils.data.DataLoader(test_set, batch_size=BATCH_SIZE, shuffle=False, **LOADER_KWARGS)"
      ],
      "execution_count": 7,
      "outputs": [
        {
          "output_type": "stream",
          "text": [
            "Downloading https://www.cs.toronto.edu/~kriz/cifar-10-python.tar.gz to ./data/cifar-10-python.tar.gz\n"
          ],
          "name": "stdout"
        },
        {
          "output_type": "display_data",
          "data": {
            "application/vnd.jupyter.widget-view+json": {
              "model_id": "95915caf1b234a6e94f4922226152c45",
              "version_minor": 0,
              "version_major": 2
            },
            "text/plain": [
              "HBox(children=(FloatProgress(value=1.0, bar_style='info', max=1.0), HTML(value='')))"
            ]
          },
          "metadata": {
            "tags": []
          }
        },
        {
          "output_type": "stream",
          "text": [
            "Extracting ./data/cifar-10-python.tar.gz to ./data\n",
            "Files already downloaded and verified\n",
            "Files already downloaded and verified\n"
          ],
          "name": "stdout"
        }
      ]
    },
    {
      "cell_type": "markdown",
      "metadata": {
        "id": "atTuDyIdtDtB"
      },
      "source": [
        "### Test and Validation Function"
      ]
    },
    {
      "cell_type": "code",
      "metadata": {
        "id": "llVsJ5UutDtB"
      },
      "source": [
        "def test(epoch=None, is_validation=False):\n",
        "    cifar_model.eval()\n",
        "    loader = val_loader if is_validation else test_loader\n",
        "    test_loss = 0\n",
        "    test_correct = 0\n",
        "    with torch.no_grad():\n",
        "        for batch_idx, (inputs, targets) in enumerate(loader):\n",
        "            inputs, targets = inputs.to(DEVICE), targets.to(DEVICE)\n",
        "            outputs = cifar_model(inputs)\n",
        "            test_loss += F.cross_entropy(outputs, targets, size_average=False).item()\n",
        "            test_correct += outputs.max(1)[1].eq(targets).sum().item()\n",
        "    if is_validation:\n",
        "        writer.add_scalar('logs/val_loss', test_loss/len(loader.dataset), epoch)\n",
        "        writer.add_scalar('logs/val_acc', test_correct/len(loader.dataset), epoch)\n",
        "    else:\n",
        "        print(\"Test Accuracy: {}/{}\".format(test_correct, len(loader.dataset)))"
      ],
      "execution_count": 8,
      "outputs": []
    },
    {
      "cell_type": "markdown",
      "metadata": {
        "id": "Nq71PIRUtDtC"
      },
      "source": [
        "### Train Function"
      ]
    },
    {
      "cell_type": "code",
      "metadata": {
        "id": "6txLPNAKtDtC",
        "colab": {
          "base_uri": "https://localhost:8080/"
        },
        "outputId": "e96b76e7-7ca1-45f3-97fb-a996983001c4"
      },
      "source": [
        "#optimizer = optim.Adam(cifar_model.classifier.parameters())\n",
        "optimizer = optim.Adam(cifar_model.parameters())\n",
        "\n",
        "# Training\n",
        "def train(epoch):\n",
        "    cifar_model.train()\n",
        "    epoch_loss = 0\n",
        "    epoch_correct = 0\n",
        "    for batch_idx, (inputs, targets) in enumerate(tqdm(train_loader)):\n",
        "        inputs, targets = inputs.to(DEVICE), targets.to(DEVICE)\n",
        "        optimizer.zero_grad()\n",
        "        outputs = cifar_model(inputs)\n",
        "        loss = F.cross_entropy(outputs, targets)\n",
        "        loss.backward()\n",
        "        optimizer.step()\n",
        "        batch_correct = outputs.max(1)[1].eq(targets).sum().item()\n",
        "        epoch_loss += loss.item()\n",
        "        epoch_correct += batch_correct\n",
        "        writer.add_scalar('logs/train_loss', loss.item(), epoch*len(train_loader) + batch_idx)\n",
        "        writer.add_scalar('logs/train_acc', batch_correct / targets.size(0), epoch*len(train_loader) + batch_idx)\n",
        "    test(epoch, is_validation=True)"
      ],
      "execution_count": 9,
      "outputs": [
        {
          "output_type": "stream",
          "text": [
            "\n"
          ],
          "name": "stdout"
        }
      ]
    },
    {
      "cell_type": "markdown",
      "metadata": {
        "id": "SbKUHL7DtDtC"
      },
      "source": [
        "### Train Model and Store Weights (or Load Weights)"
      ]
    },
    {
      "cell_type": "code",
      "metadata": {
        "id": "ZX87Y5O3tDtD"
      },
      "source": [
        "TRAIN_EPOCHS = 20\n",
        "WEIGHTS_PATH = Path(\"./vgg_cifar_weights.pt\")\n",
        "\n",
        "if WEIGHTS_PATH.is_file():\n",
        "    cifar_model.load_state_dict(torch.load(WEIGHTS_PATH))\n",
        "    print(\"Loaded weights from file:\", WEIGHTS_PATH)\n",
        "else:\n",
        "    for epoch in range(TRAIN_EPOCHS):\n",
        "        train(epoch)\n",
        "    torch.save(cifar_model.state_dict(), WEIGHTS_PATH)"
      ],
      "execution_count": null,
      "outputs": []
    },
    {
      "cell_type": "markdown",
      "metadata": {
        "id": "-2Rs2sEXtDtD"
      },
      "source": [
        "### Test Model Accuracy"
      ]
    },
    {
      "cell_type": "code",
      "metadata": {
        "id": "lMRv1dEktDtD"
      },
      "source": [
        "test()"
      ],
      "execution_count": null,
      "outputs": []
    },
    {
      "cell_type": "markdown",
      "metadata": {
        "id": "HJ-f0aERtDtD"
      },
      "source": [
        "## Attack CIFAR Model"
      ]
    },
    {
      "cell_type": "code",
      "metadata": {
        "id": "rSxAwvbbtDtD"
      },
      "source": [
        "CIFAR_LABELS = ('airplane', 'automobile', 'bird', 'cat', 'deer', 'dog', 'frog', 'horse', 'ship', 'truck')\n",
        "\n",
        "def show(img):\n",
        "    npimg = img.cpu().numpy()\n",
        "    plt.imshow(np.transpose(npimg, (1,2,0)), interpolation='nearest')\n",
        "\n",
        "def tell(img, label, model, target_label=None):\n",
        "    print(\"True Label:\", CIFAR_LABELS[label], label)\n",
        "    print(\"Prediction:\", CIFAR_LABELS[model(img.unsqueeze(0)).max(-1)[1]], model(img.unsqueeze(0)).max(-1)[1][0].item())\n",
        "    print(\"Label Probabilities:\", F.softmax(model(img.unsqueeze(0)).squeeze(), dim=0))\n",
        "    print(\"True Label Probability:\", F.softmax(model(img.unsqueeze(0)).squeeze(), dim=0)[label].item())\n",
        "    if target_label is not None:\n",
        "        print(\"Target Label Probability:\", F.softmax(model(img.unsqueeze(0)).squeeze(), dim=0)[target_label].item())"
      ],
      "execution_count": 12,
      "outputs": []
    },
    {
      "cell_type": "markdown",
      "metadata": {
        "id": "6ouVLiuitDtE"
      },
      "source": [
        "### Prediction"
      ]
    },
    {
      "cell_type": "code",
      "metadata": {
        "id": "HLSOQvrHtDtE"
      },
      "source": [
        "test_img, test_label = test_set[500]\n",
        "test_img = test_img.to(DEVICE)\n",
        "show(test_img)\n",
        "tell(test_img, test_label, cifar_model)"
      ],
      "execution_count": null,
      "outputs": []
    },
    {
      "cell_type": "markdown",
      "metadata": {
        "id": "xNuGVrNptDtE"
      },
      "source": [
        "### Perturbation"
      ]
    },
    {
      "cell_type": "code",
      "metadata": {
        "id": "i6BqLibrtDtE"
      },
      "source": [
        "def perturb(p, img):\n",
        "    # Elements of p should be in range [0,1]\n",
        "    img_size = img.size(1) # C x _H_ x W, assume H == W\n",
        "    p_img = img.clone()\n",
        "    xy = (p[0:2].copy() * img_size).astype(int)\n",
        "    xy = np.clip(xy, 0, img_size-1)\n",
        "    rgb = p[2:5].copy()\n",
        "    rgb = np.clip(rgb, 0, 1)\n",
        "    p_img[:,xy[0],xy[1]] = torch.from_numpy(rgb)\n",
        "    return p_img\n",
        "\n",
        "def visualize_perturbation(p, img, label, model, target_label=None):\n",
        "    p_img = perturb(p, img)\n",
        "    print(\"Perturbation:\", p)\n",
        "    show(p_img)\n",
        "    tell(p_img, label, model, target_label)\n",
        "\n",
        "visualize_perturbation(np.array([0.6,0.6,0,0,0.75]), test_img, test_label, cifar_model)"
      ],
      "execution_count": null,
      "outputs": []
    },
    {
      "cell_type": "markdown",
      "metadata": {
        "id": "YnlrJzRCtDtF"
      },
      "source": [
        "### Untargeted and Targeted Attacks"
      ]
    },
    {
      "cell_type": "code",
      "metadata": {
        "id": "EZy4EkZftDtF"
      },
      "source": [
        "def evaluate(candidates, img, label, model):\n",
        "    preds = []\n",
        "    model.eval()\n",
        "    with torch.no_grad():\n",
        "        for i, xs in enumerate(candidates):\n",
        "            p_img = perturb(xs, img)\n",
        "            preds.append(F.softmax(model(p_img.unsqueeze(0)).squeeze(), dim=0)[label].item())\n",
        "    return np.array(preds)\n",
        "\n",
        "def evolve(candidates, F=0.5, strategy=\"clip\"):\n",
        "    gen2 = candidates.copy()\n",
        "    num_candidates = len(candidates)\n",
        "    for i in range(num_candidates):\n",
        "        x1, x2, x3 = candidates[np.random.choice(num_candidates, 3, replace=False)]\n",
        "        x_next = (x1 + F*(x2 - x3))\n",
        "        if strategy == \"clip\":\n",
        "            gen2[i] = np.clip(x_next, 0, 1)\n",
        "        elif strategy == \"resample\":\n",
        "            x_oob = np.logical_or((x_next < 0), (1 < x_next))\n",
        "            x_next[x_oob] = np.random.random(5)[x_oob]\n",
        "            gen2[i] = x_next\n",
        "    return gen2\n",
        "\n",
        "def attack(model, img, true_label, target_label=None, iters=100, pop_size=400, verbose=True):\n",
        "    # Targeted: maximize target_label if given (early stop > 50%)\n",
        "    # Untargeted: minimize true_label otherwise (early stop < 5%)\n",
        "    candidates = np.random.random((pop_size,5))\n",
        "    candidates[:,2:5] = np.clip(np.random.normal(0.5, 0.5, (pop_size, 3)), 0, 1)\n",
        "    is_targeted = target_label is not None\n",
        "    label = target_label if is_targeted else true_label\n",
        "    fitness = evaluate(candidates, img, label, model)\n",
        "    \n",
        "    def is_success():\n",
        "        return (is_targeted and fitness.max() > 0.5) or ((not is_targeted) and fitness.min() < 0.05)\n",
        "    \n",
        "    for iteration in range(iters):\n",
        "        # Early Stopping\n",
        "        if is_success():\n",
        "            break\n",
        "        if verbose and iteration%10 == 0: # Print progress\n",
        "            print(\"Target Probability [Iteration {}]:\".format(iteration), fitness.max() if is_targeted else fitness.min())\n",
        "        # Generate new candidate solutions\n",
        "        new_gen_candidates = evolve(candidates, strategy=\"resample\")\n",
        "        # Evaluate new solutions\n",
        "        new_gen_fitness = evaluate(new_gen_candidates, img, label, model)\n",
        "        # Replace old solutions with new ones where they are better\n",
        "        successors = new_gen_fitness > fitness if is_targeted else new_gen_fitness < fitness\n",
        "        candidates[successors] = new_gen_candidates[successors]\n",
        "        fitness[successors] = new_gen_fitness[successors]\n",
        "    best_idx = fitness.argmax() if is_targeted else fitness.argmin()\n",
        "    best_solution = candidates[best_idx]\n",
        "    best_score = fitness[best_idx]\n",
        "    if verbose:\n",
        "        visualize_perturbation(best_solution, img, true_label, model, target_label)\n",
        "    return is_success(), best_solution, best_score\n",
        "\n",
        "# Untargeted attack\n",
        "_ = attack(cifar_model, test_img, test_label)"
      ],
      "execution_count": null,
      "outputs": []
    },
    {
      "cell_type": "code",
      "metadata": {
        "id": "47e7v0aGtDtG"
      },
      "source": [
        "# Targeted attack\n",
        "# This is much harder/costlier than an untargeted attack\n",
        "# For time reasons, targeted attacks below use 20 iterations\n",
        "targeted_results = {}\n",
        "for idx in range(len(CIFAR_LABELS)):\n",
        "    if idx != test_label:\n",
        "        targeted_results[idx] = attack(cifar_model, test_img, test_label, target_label=idx, iters=20, verbose=False)\n",
        "        print(CIFAR_LABELS[idx], idx, targeted_results[idx][0], targeted_results[idx][2])\n",
        "    else:\n",
        "        print(CIFAR_LABELS[idx], idx, \"True Label\")"
      ],
      "execution_count": null,
      "outputs": []
    }
  ]
}
